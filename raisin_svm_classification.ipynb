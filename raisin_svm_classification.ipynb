{
  "metadata": {
    "kernelspec": {
      "language": "python",
      "display_name": "Python 3",
      "name": "python3"
    },
    "language_info": {
      "name": "python",
      "version": "3.7.12",
      "mimetype": "text/x-python",
      "codemirror_mode": {
        "name": "ipython",
        "version": 3
      },
      "pygments_lexer": "ipython3",
      "nbconvert_exporter": "python",
      "file_extension": ".py"
    },
    "colab": {
      "name": "raisin-svm-classification.ipynb",
      "provenance": []
    }
  },
  "nbformat_minor": 0,
  "nbformat": 4,
  "cells": [
    {
      "cell_type": "markdown",
      "source": [
        "![https://2.imimg.com/data2/EI/YM/MY-4632297/sun-dried-raisins-250x250.jpg](https://2.imimg.com/data2/EI/YM/MY-4632297/sun-dried-raisins-250x250.jpg)\n",
        "\n",
        "# **Raisin Dataset**\n",
        "\n",
        "* **Machine learning algorithm written in Python to distinguish between two raisin types (Kecimen, Besni).**\n",
        "* **Data set containts 900 rows, 450 rows of each class.**\n",
        "* **Classification problem solved by Support-vector machine (SVM) algorithm.**\n",
        "\n",
        "*Origin of dataset: https://www.kaggle.com/datasets/muratkokludataset/raisin-dataset*"
      ],
      "metadata": {
        "id": "RI7OaC7kwVAG"
      }
    },
    {
      "cell_type": "markdown",
      "source": [
        "**All required libraries. Numpy for vectors, pandas for data frames, matplotlib for plots. Sklearn for machine learning.**\n",
        "\n",
        "**Internet enabled in kaggle notebook required to download openpyxl for pandas.**"
      ],
      "metadata": {
        "id": "KjKCjS4-wVAL"
      }
    },
    {
      "cell_type": "code",
      "source": [
        "# Libraries\n",
        "import numpy as np\n",
        "import pandas as pd\n",
        "import matplotlib.pyplot as plt\n",
        "\n",
        "# SVM libraries\n",
        "from sklearn.preprocessing import StandardScaler\n",
        "from sklearn.model_selection import train_test_split\n",
        "from sklearn.svm import SVC, SVR\n",
        "from sklearn.datasets import load_digits\n",
        "from sklearn.metrics import classification_report\n",
        "\n",
        "# Install to use read_excel\n",
        "!pip install openpyxl"
      ],
      "metadata": {
        "execution": {
          "iopub.status.busy": "2022-05-31T16:26:19.507754Z",
          "iopub.execute_input": "2022-05-31T16:26:19.508216Z",
          "iopub.status.idle": "2022-05-31T16:26:35.762598Z",
          "shell.execute_reply.started": "2022-05-31T16:26:19.508115Z",
          "shell.execute_reply": "2022-05-31T16:26:35.761312Z"
        },
        "trusted": true,
        "colab": {
          "base_uri": "https://localhost:8080/"
        },
        "id": "Spuq2th7wVAM",
        "outputId": "81cff8ab-65dc-4b41-a70f-1d46be9d865d"
      },
      "execution_count": 3,
      "outputs": [
        {
          "output_type": "stream",
          "name": "stdout",
          "text": [
            "Looking in indexes: https://pypi.org/simple, https://us-python.pkg.dev/colab-wheels/public/simple/\n",
            "Requirement already satisfied: openpyxl in /usr/local/lib/python3.7/dist-packages (3.0.10)\n",
            "Requirement already satisfied: et-xmlfile in /usr/local/lib/python3.7/dist-packages (from openpyxl) (1.1.0)\n"
          ]
        }
      ]
    },
    {
      "cell_type": "markdown",
      "source": [
        "**Reading and displaying the data set.**\n",
        "\n",
        "**All 7 raisin features are numerical. Class vector has to be changed to numbers (0 and 1).**"
      ],
      "metadata": {
        "id": "GlP8RZNMwVAO"
      }
    },
    {
      "cell_type": "code",
      "source": [
        "# Read data set\n",
        "data = pd.read_excel('Raisin_Dataset.xlsx')\n",
        "data"
      ],
      "metadata": {
        "execution": {
          "iopub.status.busy": "2022-05-31T16:26:35.764759Z",
          "iopub.execute_input": "2022-05-31T16:26:35.765091Z",
          "iopub.status.idle": "2022-05-31T16:26:36.213093Z",
          "shell.execute_reply.started": "2022-05-31T16:26:35.765050Z",
          "shell.execute_reply": "2022-05-31T16:26:36.212051Z"
        },
        "trusted": true,
        "colab": {
          "base_uri": "https://localhost:8080/",
          "height": 488
        },
        "id": "Gu8xKuU2wVAP",
        "outputId": "0b09b0a8-0ee1-4c9a-feec-930ca549b09c"
      },
      "execution_count": 4,
      "outputs": [
        {
          "output_type": "execute_result",
          "data": {
            "text/plain": [
              "      Area  MajorAxisLength  MinorAxisLength  Eccentricity  ConvexArea  \\\n",
              "0    87524       442.246011       253.291155      0.819738       90546   \n",
              "1    75166       406.690687       243.032436      0.801805       78789   \n",
              "2    90856       442.267048       266.328318      0.798354       93717   \n",
              "3    45928       286.540559       208.760042      0.684989       47336   \n",
              "4    79408       352.190770       290.827533      0.564011       81463   \n",
              "..     ...              ...              ...           ...         ...   \n",
              "895  83248       430.077308       247.838695      0.817263       85839   \n",
              "896  87350       440.735698       259.293149      0.808629       90899   \n",
              "897  99657       431.706981       298.837323      0.721684      106264   \n",
              "898  93523       476.344094       254.176054      0.845739       97653   \n",
              "899  85609       512.081774       215.271976      0.907345       89197   \n",
              "\n",
              "       Extent  Perimeter    Class  \n",
              "0    0.758651   1184.040  Kecimen  \n",
              "1    0.684130   1121.786  Kecimen  \n",
              "2    0.637613   1208.575  Kecimen  \n",
              "3    0.699599    844.162  Kecimen  \n",
              "4    0.792772   1073.251  Kecimen  \n",
              "..        ...        ...      ...  \n",
              "895  0.668793   1129.072    Besni  \n",
              "896  0.636476   1214.252    Besni  \n",
              "897  0.741099   1292.828    Besni  \n",
              "898  0.658798   1258.548    Besni  \n",
              "899  0.632020   1272.862    Besni  \n",
              "\n",
              "[900 rows x 8 columns]"
            ],
            "text/html": [
              "\n",
              "  <div id=\"df-bb2f6251-98d6-4729-ad06-a592efeb4f9c\">\n",
              "    <div class=\"colab-df-container\">\n",
              "      <div>\n",
              "<style scoped>\n",
              "    .dataframe tbody tr th:only-of-type {\n",
              "        vertical-align: middle;\n",
              "    }\n",
              "\n",
              "    .dataframe tbody tr th {\n",
              "        vertical-align: top;\n",
              "    }\n",
              "\n",
              "    .dataframe thead th {\n",
              "        text-align: right;\n",
              "    }\n",
              "</style>\n",
              "<table border=\"1\" class=\"dataframe\">\n",
              "  <thead>\n",
              "    <tr style=\"text-align: right;\">\n",
              "      <th></th>\n",
              "      <th>Area</th>\n",
              "      <th>MajorAxisLength</th>\n",
              "      <th>MinorAxisLength</th>\n",
              "      <th>Eccentricity</th>\n",
              "      <th>ConvexArea</th>\n",
              "      <th>Extent</th>\n",
              "      <th>Perimeter</th>\n",
              "      <th>Class</th>\n",
              "    </tr>\n",
              "  </thead>\n",
              "  <tbody>\n",
              "    <tr>\n",
              "      <th>0</th>\n",
              "      <td>87524</td>\n",
              "      <td>442.246011</td>\n",
              "      <td>253.291155</td>\n",
              "      <td>0.819738</td>\n",
              "      <td>90546</td>\n",
              "      <td>0.758651</td>\n",
              "      <td>1184.040</td>\n",
              "      <td>Kecimen</td>\n",
              "    </tr>\n",
              "    <tr>\n",
              "      <th>1</th>\n",
              "      <td>75166</td>\n",
              "      <td>406.690687</td>\n",
              "      <td>243.032436</td>\n",
              "      <td>0.801805</td>\n",
              "      <td>78789</td>\n",
              "      <td>0.684130</td>\n",
              "      <td>1121.786</td>\n",
              "      <td>Kecimen</td>\n",
              "    </tr>\n",
              "    <tr>\n",
              "      <th>2</th>\n",
              "      <td>90856</td>\n",
              "      <td>442.267048</td>\n",
              "      <td>266.328318</td>\n",
              "      <td>0.798354</td>\n",
              "      <td>93717</td>\n",
              "      <td>0.637613</td>\n",
              "      <td>1208.575</td>\n",
              "      <td>Kecimen</td>\n",
              "    </tr>\n",
              "    <tr>\n",
              "      <th>3</th>\n",
              "      <td>45928</td>\n",
              "      <td>286.540559</td>\n",
              "      <td>208.760042</td>\n",
              "      <td>0.684989</td>\n",
              "      <td>47336</td>\n",
              "      <td>0.699599</td>\n",
              "      <td>844.162</td>\n",
              "      <td>Kecimen</td>\n",
              "    </tr>\n",
              "    <tr>\n",
              "      <th>4</th>\n",
              "      <td>79408</td>\n",
              "      <td>352.190770</td>\n",
              "      <td>290.827533</td>\n",
              "      <td>0.564011</td>\n",
              "      <td>81463</td>\n",
              "      <td>0.792772</td>\n",
              "      <td>1073.251</td>\n",
              "      <td>Kecimen</td>\n",
              "    </tr>\n",
              "    <tr>\n",
              "      <th>...</th>\n",
              "      <td>...</td>\n",
              "      <td>...</td>\n",
              "      <td>...</td>\n",
              "      <td>...</td>\n",
              "      <td>...</td>\n",
              "      <td>...</td>\n",
              "      <td>...</td>\n",
              "      <td>...</td>\n",
              "    </tr>\n",
              "    <tr>\n",
              "      <th>895</th>\n",
              "      <td>83248</td>\n",
              "      <td>430.077308</td>\n",
              "      <td>247.838695</td>\n",
              "      <td>0.817263</td>\n",
              "      <td>85839</td>\n",
              "      <td>0.668793</td>\n",
              "      <td>1129.072</td>\n",
              "      <td>Besni</td>\n",
              "    </tr>\n",
              "    <tr>\n",
              "      <th>896</th>\n",
              "      <td>87350</td>\n",
              "      <td>440.735698</td>\n",
              "      <td>259.293149</td>\n",
              "      <td>0.808629</td>\n",
              "      <td>90899</td>\n",
              "      <td>0.636476</td>\n",
              "      <td>1214.252</td>\n",
              "      <td>Besni</td>\n",
              "    </tr>\n",
              "    <tr>\n",
              "      <th>897</th>\n",
              "      <td>99657</td>\n",
              "      <td>431.706981</td>\n",
              "      <td>298.837323</td>\n",
              "      <td>0.721684</td>\n",
              "      <td>106264</td>\n",
              "      <td>0.741099</td>\n",
              "      <td>1292.828</td>\n",
              "      <td>Besni</td>\n",
              "    </tr>\n",
              "    <tr>\n",
              "      <th>898</th>\n",
              "      <td>93523</td>\n",
              "      <td>476.344094</td>\n",
              "      <td>254.176054</td>\n",
              "      <td>0.845739</td>\n",
              "      <td>97653</td>\n",
              "      <td>0.658798</td>\n",
              "      <td>1258.548</td>\n",
              "      <td>Besni</td>\n",
              "    </tr>\n",
              "    <tr>\n",
              "      <th>899</th>\n",
              "      <td>85609</td>\n",
              "      <td>512.081774</td>\n",
              "      <td>215.271976</td>\n",
              "      <td>0.907345</td>\n",
              "      <td>89197</td>\n",
              "      <td>0.632020</td>\n",
              "      <td>1272.862</td>\n",
              "      <td>Besni</td>\n",
              "    </tr>\n",
              "  </tbody>\n",
              "</table>\n",
              "<p>900 rows × 8 columns</p>\n",
              "</div>\n",
              "      <button class=\"colab-df-convert\" onclick=\"convertToInteractive('df-bb2f6251-98d6-4729-ad06-a592efeb4f9c')\"\n",
              "              title=\"Convert this dataframe to an interactive table.\"\n",
              "              style=\"display:none;\">\n",
              "        \n",
              "  <svg xmlns=\"http://www.w3.org/2000/svg\" height=\"24px\"viewBox=\"0 0 24 24\"\n",
              "       width=\"24px\">\n",
              "    <path d=\"M0 0h24v24H0V0z\" fill=\"none\"/>\n",
              "    <path d=\"M18.56 5.44l.94 2.06.94-2.06 2.06-.94-2.06-.94-.94-2.06-.94 2.06-2.06.94zm-11 1L8.5 8.5l.94-2.06 2.06-.94-2.06-.94L8.5 2.5l-.94 2.06-2.06.94zm10 10l.94 2.06.94-2.06 2.06-.94-2.06-.94-.94-2.06-.94 2.06-2.06.94z\"/><path d=\"M17.41 7.96l-1.37-1.37c-.4-.4-.92-.59-1.43-.59-.52 0-1.04.2-1.43.59L10.3 9.45l-7.72 7.72c-.78.78-.78 2.05 0 2.83L4 21.41c.39.39.9.59 1.41.59.51 0 1.02-.2 1.41-.59l7.78-7.78 2.81-2.81c.8-.78.8-2.07 0-2.86zM5.41 20L4 18.59l7.72-7.72 1.47 1.35L5.41 20z\"/>\n",
              "  </svg>\n",
              "      </button>\n",
              "      \n",
              "  <style>\n",
              "    .colab-df-container {\n",
              "      display:flex;\n",
              "      flex-wrap:wrap;\n",
              "      gap: 12px;\n",
              "    }\n",
              "\n",
              "    .colab-df-convert {\n",
              "      background-color: #E8F0FE;\n",
              "      border: none;\n",
              "      border-radius: 50%;\n",
              "      cursor: pointer;\n",
              "      display: none;\n",
              "      fill: #1967D2;\n",
              "      height: 32px;\n",
              "      padding: 0 0 0 0;\n",
              "      width: 32px;\n",
              "    }\n",
              "\n",
              "    .colab-df-convert:hover {\n",
              "      background-color: #E2EBFA;\n",
              "      box-shadow: 0px 1px 2px rgba(60, 64, 67, 0.3), 0px 1px 3px 1px rgba(60, 64, 67, 0.15);\n",
              "      fill: #174EA6;\n",
              "    }\n",
              "\n",
              "    [theme=dark] .colab-df-convert {\n",
              "      background-color: #3B4455;\n",
              "      fill: #D2E3FC;\n",
              "    }\n",
              "\n",
              "    [theme=dark] .colab-df-convert:hover {\n",
              "      background-color: #434B5C;\n",
              "      box-shadow: 0px 1px 3px 1px rgba(0, 0, 0, 0.15);\n",
              "      filter: drop-shadow(0px 1px 2px rgba(0, 0, 0, 0.3));\n",
              "      fill: #FFFFFF;\n",
              "    }\n",
              "  </style>\n",
              "\n",
              "      <script>\n",
              "        const buttonEl =\n",
              "          document.querySelector('#df-bb2f6251-98d6-4729-ad06-a592efeb4f9c button.colab-df-convert');\n",
              "        buttonEl.style.display =\n",
              "          google.colab.kernel.accessAllowed ? 'block' : 'none';\n",
              "\n",
              "        async function convertToInteractive(key) {\n",
              "          const element = document.querySelector('#df-bb2f6251-98d6-4729-ad06-a592efeb4f9c');\n",
              "          const dataTable =\n",
              "            await google.colab.kernel.invokeFunction('convertToInteractive',\n",
              "                                                     [key], {});\n",
              "          if (!dataTable) return;\n",
              "\n",
              "          const docLinkHtml = 'Like what you see? Visit the ' +\n",
              "            '<a target=\"_blank\" href=https://colab.research.google.com/notebooks/data_table.ipynb>data table notebook</a>'\n",
              "            + ' to learn more about interactive tables.';\n",
              "          element.innerHTML = '';\n",
              "          dataTable['output_type'] = 'display_data';\n",
              "          await google.colab.output.renderOutput(dataTable, element);\n",
              "          const docLink = document.createElement('div');\n",
              "          docLink.innerHTML = docLinkHtml;\n",
              "          element.appendChild(docLink);\n",
              "        }\n",
              "      </script>\n",
              "    </div>\n",
              "  </div>\n",
              "  "
            ]
          },
          "metadata": {},
          "execution_count": 4
        }
      ]
    },
    {
      "cell_type": "markdown",
      "source": [
        "**Structure of data set displayed. Almost all columns have correct type.**"
      ],
      "metadata": {
        "id": "I2kmpLdowVAP"
      }
    },
    {
      "cell_type": "code",
      "source": [
        "# Data frame structure\n",
        "data.info()"
      ],
      "metadata": {
        "execution": {
          "iopub.status.busy": "2022-05-31T16:26:36.214542Z",
          "iopub.execute_input": "2022-05-31T16:26:36.214848Z",
          "iopub.status.idle": "2022-05-31T16:26:36.243226Z",
          "shell.execute_reply.started": "2022-05-31T16:26:36.214815Z",
          "shell.execute_reply": "2022-05-31T16:26:36.242135Z"
        },
        "trusted": true,
        "colab": {
          "base_uri": "https://localhost:8080/"
        },
        "id": "8ijJClhPwVAP",
        "outputId": "9b49ae76-42cf-45e7-ec04-f0faeb5c5321"
      },
      "execution_count": 5,
      "outputs": [
        {
          "output_type": "stream",
          "name": "stdout",
          "text": [
            "<class 'pandas.core.frame.DataFrame'>\n",
            "RangeIndex: 900 entries, 0 to 899\n",
            "Data columns (total 8 columns):\n",
            " #   Column           Non-Null Count  Dtype  \n",
            "---  ------           --------------  -----  \n",
            " 0   Area             900 non-null    int64  \n",
            " 1   MajorAxisLength  900 non-null    float64\n",
            " 2   MinorAxisLength  900 non-null    float64\n",
            " 3   Eccentricity     900 non-null    float64\n",
            " 4   ConvexArea       900 non-null    int64  \n",
            " 5   Extent           900 non-null    float64\n",
            " 6   Perimeter        900 non-null    float64\n",
            " 7   Class            900 non-null    object \n",
            "dtypes: float64(5), int64(2), object(1)\n",
            "memory usage: 56.4+ KB\n"
          ]
        }
      ]
    },
    {
      "cell_type": "markdown",
      "source": [
        "**Converting class values to 0 and 1 and making sure every column is numerical.**"
      ],
      "metadata": {
        "id": "sLkxRnSGwVAQ"
      }
    },
    {
      "cell_type": "code",
      "source": [
        "# Convert columns to numeric\n",
        "data['Class'] = data['Class'].str.replace('Kecimen', '0')\n",
        "data['Class'] = data['Class'].str.replace('Besni', '1')\n",
        "\n",
        "cols = data.columns\n",
        "data[cols] = data[cols].apply(pd.to_numeric, errors='coerce')\n",
        "\n",
        "# Data frame structure\n",
        "data.info()"
      ],
      "metadata": {
        "execution": {
          "iopub.status.busy": "2022-05-31T16:26:36.245467Z",
          "iopub.execute_input": "2022-05-31T16:26:36.245720Z",
          "iopub.status.idle": "2022-05-31T16:26:36.269821Z",
          "shell.execute_reply.started": "2022-05-31T16:26:36.245691Z",
          "shell.execute_reply": "2022-05-31T16:26:36.268850Z"
        },
        "trusted": true,
        "colab": {
          "base_uri": "https://localhost:8080/"
        },
        "id": "vciVKSomwVAR",
        "outputId": "5470a2a1-8857-4bbc-fb58-be1b3c070580"
      },
      "execution_count": 6,
      "outputs": [
        {
          "output_type": "stream",
          "name": "stdout",
          "text": [
            "<class 'pandas.core.frame.DataFrame'>\n",
            "RangeIndex: 900 entries, 0 to 899\n",
            "Data columns (total 8 columns):\n",
            " #   Column           Non-Null Count  Dtype  \n",
            "---  ------           --------------  -----  \n",
            " 0   Area             900 non-null    int64  \n",
            " 1   MajorAxisLength  900 non-null    float64\n",
            " 2   MinorAxisLength  900 non-null    float64\n",
            " 3   Eccentricity     900 non-null    float64\n",
            " 4   ConvexArea       900 non-null    int64  \n",
            " 5   Extent           900 non-null    float64\n",
            " 6   Perimeter        900 non-null    float64\n",
            " 7   Class            900 non-null    int64  \n",
            "dtypes: float64(5), int64(3)\n",
            "memory usage: 56.4 KB\n"
          ]
        }
      ]
    },
    {
      "cell_type": "markdown",
      "source": [
        "**Need to check if values are distributed evenly.**"
      ],
      "metadata": {
        "id": "C9sGW8bLwVAS"
      }
    },
    {
      "cell_type": "code",
      "source": [
        "# Classes are distrubuted evenly\n",
        "data['Class'].value_counts()"
      ],
      "metadata": {
        "execution": {
          "iopub.status.busy": "2022-05-31T16:26:36.271331Z",
          "iopub.execute_input": "2022-05-31T16:26:36.271565Z",
          "iopub.status.idle": "2022-05-31T16:26:36.279804Z",
          "shell.execute_reply.started": "2022-05-31T16:26:36.271536Z",
          "shell.execute_reply": "2022-05-31T16:26:36.278962Z"
        },
        "trusted": true,
        "colab": {
          "base_uri": "https://localhost:8080/"
        },
        "id": "xP1il_QHwVAS",
        "outputId": "a2823b0d-03fa-4097-c7b0-3b7663e22cd6"
      },
      "execution_count": 7,
      "outputs": [
        {
          "output_type": "execute_result",
          "data": {
            "text/plain": [
              "0    450\n",
              "1    450\n",
              "Name: Class, dtype: int64"
            ]
          },
          "metadata": {},
          "execution_count": 7
        }
      ]
    },
    {
      "cell_type": "markdown",
      "source": [
        "**Preparing data for SVM algorithm.**\n",
        "\n",
        "**Spliting class column from others.**"
      ],
      "metadata": {
        "id": "RI8VzezXwVAT"
      }
    },
    {
      "cell_type": "code",
      "source": [
        "# Data for SVM\n",
        "X = data\n",
        "X = X.drop(['Class'], axis = 1)\n",
        "Y = data.Class # class"
      ],
      "metadata": {
        "execution": {
          "iopub.status.busy": "2022-05-31T16:26:36.281353Z",
          "iopub.execute_input": "2022-05-31T16:26:36.281663Z",
          "iopub.status.idle": "2022-05-31T16:26:36.292414Z",
          "shell.execute_reply.started": "2022-05-31T16:26:36.281628Z",
          "shell.execute_reply": "2022-05-31T16:26:36.291708Z"
        },
        "trusted": true,
        "id": "2Zr6U-6UwVAT"
      },
      "execution_count": 8,
      "outputs": []
    },
    {
      "cell_type": "markdown",
      "source": [
        "# **Polynomial kernel**\n",
        "**Parameters for polynomial kernel SVM model. Polynomial of multiple degrees is tested.**"
      ],
      "metadata": {
        "id": "6BqPH8C8wVAU"
      }
    },
    {
      "cell_type": "code",
      "source": [
        "# Parameters for classificator - polynomial kernel\n",
        "degree = [1,2,3,4,5,6,7,8,9]\n",
        "degree = np.array(degree)\n",
        "\n",
        "# Tables to save accuracy - polynomial kernel\n",
        "Accuracy_CV_poly = np.zeros((10,1))\n",
        "Accuracy_poly = np.zeros(len(degree))"
      ],
      "metadata": {
        "execution": {
          "iopub.status.busy": "2022-05-31T16:26:36.293485Z",
          "iopub.execute_input": "2022-05-31T16:26:36.293807Z",
          "iopub.status.idle": "2022-05-31T16:26:36.304674Z",
          "shell.execute_reply.started": "2022-05-31T16:26:36.293765Z",
          "shell.execute_reply": "2022-05-31T16:26:36.303541Z"
        },
        "trusted": true,
        "id": "6OdEEF7ZwVAU"
      },
      "execution_count": 9,
      "outputs": []
    },
    {
      "cell_type": "markdown",
      "source": [
        "**SVM model training with polynomial kernel.**\n",
        "\n",
        "**Splitting data into 10% test size and rest for the training.**\n",
        "\n",
        "**Data is standarized after splitting.**\n",
        "\n",
        "**After model creation, it's fitted and tested.**\n",
        "\n",
        "**Later the accuracy is calculated.**"
      ],
      "metadata": {
        "id": "K8bJxSg6wVAU"
      }
    },
    {
      "cell_type": "code",
      "source": [
        "# SVM - polynomial kernel\n",
        "for i in range(0, len(degree)): # degree\n",
        "    for k in range(1, 10): # Crossvalidation\n",
        "        # Split data into test and train sets\n",
        "        X_train_poly, X_test_poly, Y_train_poly, Y_test_poly = train_test_split(X, Y, test_size = 0.10) # 10 times cs so test_size is 10% of data set \n",
        "            \n",
        "        # Standarization\n",
        "        sc = StandardScaler()\n",
        "        sc.fit(X_train_poly)\n",
        "        X_train_poly = sc.transform(X_train_poly)\n",
        "        X_test_poly = sc.transform(X_test_poly)\n",
        "        X_train_poly = pd.DataFrame(X_train_poly)\n",
        "        X_test_poly = pd.DataFrame(X_test_poly)\n",
        "            \n",
        "        # Model\n",
        "        svclassifier = SVC(kernel='poly', degree = degree[i])\n",
        "        svclassifier.fit(X_train_poly, Y_train_poly)\n",
        "        \n",
        "        y_pred_poly = svclassifier.predict(X_test_poly)\n",
        "            \n",
        "        # Accuracy - how many values from y_pred are equal to Y_test\n",
        "        Accuracy_CV_poly[k] = sum(y_pred_poly == Y_test_poly)/len(Y_test_poly)\n",
        "\n",
        "    Accuracy_poly[i] = np.mean(Accuracy_CV_poly) # rows - gamma, columns - C\n",
        "    \n",
        "Accuracy_poly # display accuracy table"
      ],
      "metadata": {
        "execution": {
          "iopub.status.busy": "2022-05-31T16:26:36.305857Z",
          "iopub.execute_input": "2022-05-31T16:26:36.306297Z",
          "iopub.status.idle": "2022-05-31T16:26:39.008904Z",
          "shell.execute_reply.started": "2022-05-31T16:26:36.306243Z",
          "shell.execute_reply": "2022-05-31T16:26:39.008053Z"
        },
        "trusted": true,
        "colab": {
          "base_uri": "https://localhost:8080/"
        },
        "id": "DIQ5fCImwVAV",
        "outputId": "5303dc2d-6edd-4561-89aa-ac1680cb3c33"
      },
      "execution_count": 10,
      "outputs": [
        {
          "output_type": "execute_result",
          "data": {
            "text/plain": [
              "array([0.79222222, 0.59555556, 0.75666667, 0.57      , 0.68111111,\n",
              "       0.59555556, 0.62888889, 0.58888889, 0.61888889])"
            ]
          },
          "metadata": {},
          "execution_count": 10
        }
      ]
    },
    {
      "cell_type": "markdown",
      "source": [
        "**Plotting accuracy.**\n",
        "\n",
        "**Change of degree is axis X.**"
      ],
      "metadata": {
        "id": "qbf7W7ZVwVAV"
      }
    },
    {
      "cell_type": "code",
      "source": [
        "# polynomial kernel accuracy plot\n",
        "# axis X - degree\n",
        "plt.plot(Accuracy_poly)\n",
        "plt.xlabel('degree')\n",
        "plt.ylabel('Accuracy')\n",
        "#plt.xticks(np.arange(len(degree)), degree) # correct axis X ticks"
      ],
      "metadata": {
        "execution": {
          "iopub.status.busy": "2022-05-31T16:26:39.010519Z",
          "iopub.execute_input": "2022-05-31T16:26:39.011098Z",
          "iopub.status.idle": "2022-05-31T16:26:39.258018Z",
          "shell.execute_reply.started": "2022-05-31T16:26:39.011047Z",
          "shell.execute_reply": "2022-05-31T16:26:39.257041Z"
        },
        "trusted": true,
        "colab": {
          "base_uri": "https://localhost:8080/",
          "height": 298
        },
        "id": "zlDHp9jhwVAW",
        "outputId": "0b058caf-873b-4dd3-eb16-4b499b3ade57"
      },
      "execution_count": 11,
      "outputs": [
        {
          "output_type": "execute_result",
          "data": {
            "text/plain": [
              "Text(0, 0.5, 'Accuracy')"
            ]
          },
          "metadata": {},
          "execution_count": 11
        },
        {
          "output_type": "display_data",
          "data": {
            "text/plain": [
              "<Figure size 432x288 with 1 Axes>"
            ],
            "image/png": "[encoded data removed]"
          },
          "metadata": {
            "needs_background": "light"
          }
        }
      ]
    },
    {
      "cell_type": "markdown",
      "source": [
        "**As we can see, the model build with polynomial kernel doesn't have the best accuracy.**"
      ],
      "metadata": {
        "id": "ap21R9xYwVAW"
      }
    },
    {
      "cell_type": "markdown",
      "source": [
        "# **RBF kernel**\n",
        "**Creating parameters for classificator.**\n",
        "\n",
        "**Multiple gamma and C values to check which one should be used in model for best accuracy.**\n",
        "\n",
        "**A low C makes the decision surface smooth, while a high C aims at classifying all training examples correctly. gamma defines how much influence a single training example has. The larger gamma is, the closer other examples must be to be affected.**\n",
        "\n",
        "**Creating accuracy tables to save their values. Accuracy_CV is 10x1 because of 10-fold cross-validation.**"
      ],
      "metadata": {
        "id": "7zZEqAk-wVAW"
      }
    },
    {
      "cell_type": "code",
      "source": [
        "# Parameters for classificator - rbf kernel\n",
        "gamma = [0.0005, 0.005, 0.01, 0.05, 0.2, 0.8, 1.5, 2.5, 5, 10, 20, 50, 100]\n",
        "gamma = np.array(gamma)\n",
        "C = [1, 10, 100, 1000, 10000, 100000]\n",
        "C = np.array(C)"
      ],
      "metadata": {
        "execution": {
          "iopub.status.busy": "2022-05-31T16:26:39.260483Z",
          "iopub.execute_input": "2022-05-31T16:26:39.260720Z",
          "iopub.status.idle": "2022-05-31T16:26:39.266766Z",
          "shell.execute_reply.started": "2022-05-31T16:26:39.260690Z",
          "shell.execute_reply": "2022-05-31T16:26:39.265818Z"
        },
        "trusted": true,
        "id": "fVvsG9u8wVAW"
      },
      "execution_count": 12,
      "outputs": []
    },
    {
      "cell_type": "markdown",
      "source": [
        "**SVM model training with rbf kernel.**\n",
        "\n",
        "**Splitting data into 10% test size and rest for the training.**\n",
        "\n",
        "**Data is standarized after splitting.**\n",
        "\n",
        "**After model creation, it's fitted and tested.**\n",
        "\n",
        "**Later the accuracy is calculated.**"
      ],
      "metadata": {
        "id": "FQ4mquaLwVAX"
      }
    },
    {
      "cell_type": "code",
      "source": [
        "# Tables to save accuracy - rbf kernel\n",
        "Accuracy_CV = np.zeros((10,1))\n",
        "Accuracy = np.zeros((len(gamma), len(C)))\n",
        "\n",
        "# SVM - rbf kernel\n",
        "for i in range(0, len(C)): # C\n",
        "    for j in range(0, len(gamma)): # gamma\n",
        "        for k in range(1, 10): # Crossvalidation\n",
        "            # Split data into test and train sets\n",
        "            X_train, X_test, Y_train, Y_test = train_test_split(X, Y, test_size = 0.10) # 10 times cs so test_size is 10% of data set \n",
        "            \n",
        "            # Standarization\n",
        "            sc = StandardScaler()\n",
        "            sc.fit(X_train)\n",
        "            X_train = sc.transform(X_train)\n",
        "            X_test = sc.transform(X_test)\n",
        "            X_train = pd.DataFrame(X_train)\n",
        "            X_test = pd.DataFrame(X_test)\n",
        "            \n",
        "            # Model\n",
        "            svclassifier = SVC(kernel = 'rbf', C = C[i], gamma = gamma[j])\n",
        "            \n",
        "            svclassifier.fit(X_train, Y_train)\n",
        "            y_pred = svclassifier.predict(X_test)\n",
        "            \n",
        "            # Accuracy - how many values from y_pred are equal to Y_test\n",
        "            Accuracy_CV[k] = sum(y_pred == Y_test)/len(Y_test)\n",
        "\n",
        "        Accuracy[j,i] = np.mean(Accuracy_CV) # rows - gamma, columns - C\n",
        "        \n",
        "Accuracy # display accuracy table"
      ],
      "metadata": {
        "execution": {
          "iopub.status.busy": "2022-05-31T16:26:39.268410Z",
          "iopub.execute_input": "2022-05-31T16:26:39.268653Z",
          "iopub.status.idle": "2022-05-31T16:30:33.933703Z",
          "shell.execute_reply.started": "2022-05-31T16:26:39.268624Z",
          "shell.execute_reply": "2022-05-31T16:30:33.932484Z"
        },
        "trusted": true,
        "colab": {
          "base_uri": "https://localhost:8080/"
        },
        "id": "6uD0rXCJwVAX",
        "outputId": "6026538d-24fb-4744-f279-a4197dec0d39"
      },
      "execution_count": 13,
      "outputs": [
        {
          "output_type": "execute_result",
          "data": {
            "text/plain": [
              "array([[0.76      , 0.78777778, 0.78111111, 0.79222222, 0.78      ,\n",
              "        0.77777778],\n",
              "       [0.78444444, 0.78111111, 0.78333333, 0.77888889, 0.77888889,\n",
              "        0.77888889],\n",
              "       [0.78555556, 0.77888889, 0.77777778, 0.78888889, 0.77111111,\n",
              "        0.77333333],\n",
              "       [0.78555556, 0.78      , 0.78333333, 0.77777778, 0.76444444,\n",
              "        0.76666667],\n",
              "       [0.79222222, 0.76888889, 0.76888889, 0.77555556, 0.76      ,\n",
              "        0.73222222],\n",
              "       [0.79333333, 0.78555556, 0.73555556, 0.74      , 0.71      ,\n",
              "        0.71      ],\n",
              "       [0.77555556, 0.78333333, 0.74333333, 0.75222222, 0.72444444,\n",
              "        0.71333333],\n",
              "       [0.78444444, 0.75333333, 0.72666667, 0.72444444, 0.72555556,\n",
              "        0.72666667],\n",
              "       [0.76555556, 0.72777778, 0.72      , 0.74555556, 0.74      ,\n",
              "        0.72      ],\n",
              "       [0.71444444, 0.71444444, 0.70888889, 0.72222222, 0.67888889,\n",
              "        0.72666667],\n",
              "       [0.70222222, 0.69111111, 0.68666667, 0.68111111, 0.69888889,\n",
              "        0.68111111],\n",
              "       [0.57444444, 0.63111111, 0.60888889, 0.67111111, 0.63333333,\n",
              "        0.64111111],\n",
              "       [0.50222222, 0.54222222, 0.53      , 0.53444444, 0.53333333,\n",
              "        0.55111111]])"
            ]
          },
          "metadata": {},
          "execution_count": 13
        }
      ]
    },
    {
      "cell_type": "markdown",
      "source": [
        "**Plotting accuracy.**\n",
        "\n",
        "**Each line is model with different C value. Change of gamma is axis X.**"
      ],
      "metadata": {
        "id": "M_Zu5o8MwVAX"
      }
    },
    {
      "cell_type": "code",
      "source": [
        "# rbf kernel accuracy plot\n",
        "# axis X - gamma, different lines - C     \n",
        "for p in range(0, len(C)): # number of lines = number of C values \n",
        "    plt.plot(Accuracy[:,p], label = C[p]) # every line plotted separately in order to have a name\n",
        "plt.xlabel('Gamma')\n",
        "plt.ylabel('Accuracy')\n",
        "plt.xticks(np.arange(len(gamma)), gamma) # correct axis X ticks\n",
        "plt.legend(title = 'C')"
      ],
      "metadata": {
        "execution": {
          "iopub.status.busy": "2022-05-31T16:30:33.935753Z",
          "iopub.execute_input": "2022-05-31T16:30:33.936167Z",
          "iopub.status.idle": "2022-05-31T16:30:34.250614Z",
          "shell.execute_reply.started": "2022-05-31T16:30:33.936119Z",
          "shell.execute_reply": "2022-05-31T16:30:34.249976Z"
        },
        "trusted": true,
        "colab": {
          "base_uri": "https://localhost:8080/",
          "height": 297
        },
        "id": "ekYBZJ5MwVAY",
        "outputId": "bce3354e-df64-4079-ab20-b736a778c9b5"
      },
      "execution_count": 14,
      "outputs": [
        {
          "output_type": "execute_result",
          "data": {
            "text/plain": [
              "<matplotlib.legend.Legend at 0x7f0f51b95d50>"
            ]
          },
          "metadata": {},
          "execution_count": 14
        },
        {
          "output_type": "display_data",
          "data": {
            "text/plain": [
              "<Figure size 432x288 with 1 Axes>"
            ],
            "image/png": "[encoded data removed]"
          },
          "metadata": {
            "needs_background": "light"
          }
        }
      ]
    },
    {
      "cell_type": "markdown",
      "source": [
        "**Accuracy falls fown rapidly after gamma = 5.0. Bigger C values doesn't mean better accuracy as it seems.**\n",
        "\n",
        "**RBF kernel will be tested once again. This time data gamma will be set as constant (gamma = 0.05). Multiple C values will be tested and the best one from each iteration kept. Average accuracy will be calculated and then model with C value closest to average will be build.**"
      ],
      "metadata": {
        "id": "LwFycoF7wVAY"
      }
    },
    {
      "cell_type": "code",
      "source": [
        "C = [1, 10, 100, 1000, 10000, 100000]\n",
        "C = np.array(C)\n",
        "\n",
        "k_range = 10\n",
        "Accuracy_CV2 = np.zeros((len(C),2))\n",
        "Accuracy_rbf2 = np.zeros((k_range,2))\n",
        "# SVM - rbf kernel - k is outside loop\n",
        "for k in range(0, k_range):\n",
        "    # Split data into test and train sets\n",
        "    X_train_rbf2, X_test_rbf2, Y_train_rbf2, Y_test_rbf2 = train_test_split(X, Y, test_size = k_range/100) # 10 times cs so test_size is 10% of data set\n",
        "    \n",
        "    # Standarization\n",
        "    sc = StandardScaler()\n",
        "    sc.fit(X_train_rbf2)\n",
        "    X_train_rbf2 = sc.transform(X_train_rbf2)\n",
        "    X_test_rbf2 = sc.transform(X_test_rbf2)\n",
        "    X_train_rbf2 = pd.DataFrame(X_train_rbf2)\n",
        "    X_test_rbf2 = pd.DataFrame(X_test_rbf2)\n",
        "\n",
        "    for i in range(0, len(C)):\n",
        "        # Model\n",
        "        svclassifier = SVC(kernel = 'rbf', C = C[i], gamma = 0.05) # gamma constant\n",
        "        svclassifier.fit(X_train_rbf2, Y_train_rbf2)\n",
        "        y_pred_rbf2 = svclassifier.predict(X_test_rbf2)\n",
        "        \n",
        "        # Accuracy\n",
        "        Accuracy_CV2[i,0] = sum(y_pred_rbf2 == Y_test_rbf2)/len(Y_test_rbf2)\n",
        "        Accuracy_CV2[i,1] = C[i]\n",
        "\n",
        "    Accuracy_rbf2[k,0] = np.max(Accuracy_CV2[:,0]) # best accuracy\n",
        "    id_max = np.argmax(Accuracy_CV2[:,0], axis=0)\n",
        "    Accuracy_rbf2[k,1] = Accuracy_CV2[id_max,1] # C for best acuracy\n",
        "\n",
        "print(\"Accuracy table:\\n\", Accuracy_rbf2) # display accuracy table"
      ],
      "metadata": {
        "execution": {
          "iopub.status.busy": "2022-05-31T16:30:34.252066Z",
          "iopub.execute_input": "2022-05-31T16:30:34.252899Z",
          "iopub.status.idle": "2022-05-31T16:31:48.868098Z",
          "shell.execute_reply.started": "2022-05-31T16:30:34.252848Z",
          "shell.execute_reply": "2022-05-31T16:31:48.867122Z"
        },
        "trusted": true,
        "colab": {
          "base_uri": "https://localhost:8080/"
        },
        "id": "Tqs4-WhrwVAY",
        "outputId": "c4e0c080-76e3-47a8-8244-dc8a8d75e1eb"
      },
      "execution_count": 15,
      "outputs": [
        {
          "output_type": "stream",
          "name": "stdout",
          "text": [
            "Accuracy table:\n",
            " [[  0.92222222  10.        ]\n",
            " [  0.87777778   1.        ]\n",
            " [  0.87777778   1.        ]\n",
            " [  0.88888889  10.        ]\n",
            " [  0.85555556   1.        ]\n",
            " [  0.83333333   1.        ]\n",
            " [  0.92222222   1.        ]\n",
            " [  0.85555556   1.        ]\n",
            " [  0.83333333   1.        ]\n",
            " [  0.88888889 100.        ]]\n"
          ]
        }
      ]
    },
    {
      "cell_type": "code",
      "source": [
        "# Average accuracy\n",
        "Accuracy_mean = np.mean(Accuracy_rbf2[:,0])\n",
        "print(\"Mean accuracy =\", Accuracy_mean)"
      ],
      "metadata": {
        "execution": {
          "iopub.status.busy": "2022-05-31T16:31:48.869411Z",
          "iopub.execute_input": "2022-05-31T16:31:48.869660Z",
          "iopub.status.idle": "2022-05-31T16:31:48.875883Z",
          "shell.execute_reply.started": "2022-05-31T16:31:48.869630Z",
          "shell.execute_reply": "2022-05-31T16:31:48.874875Z"
        },
        "trusted": true,
        "colab": {
          "base_uri": "https://localhost:8080/"
        },
        "id": "jAysDq3DwVAY",
        "outputId": "02221b3b-9e9d-461e-accd-c14e693b2513"
      },
      "execution_count": 16,
      "outputs": [
        {
          "output_type": "stream",
          "name": "stdout",
          "text": [
            "Mean accuracy = 0.8755555555555554\n"
          ]
        }
      ]
    },
    {
      "cell_type": "code",
      "source": [
        "# Accuracy closest to average accuracy\n",
        "Accuarcy_roznica = Accuracy_rbf2[:,0] - Accuracy_mean\n",
        "Accuarcy_roznica = abs(Accuarcy_roznica)\n",
        "id_min = np.argmin(Accuarcy_roznica, axis=0)\n",
        "avg_acc_C = Accuracy_rbf2[id_min, 1]\n",
        "avg_acc = Accuracy_rbf2[id_min, 0]\n",
        "print(\"C for value closest to average accuracy:\",avg_acc_C)"
      ],
      "metadata": {
        "execution": {
          "iopub.status.busy": "2022-05-31T16:31:48.877340Z",
          "iopub.execute_input": "2022-05-31T16:31:48.877613Z",
          "iopub.status.idle": "2022-05-31T16:31:48.892425Z",
          "shell.execute_reply.started": "2022-05-31T16:31:48.877569Z",
          "shell.execute_reply": "2022-05-31T16:31:48.891668Z"
        },
        "trusted": true,
        "colab": {
          "base_uri": "https://localhost:8080/"
        },
        "id": "leO5jdS0wVAZ",
        "outputId": "51d6492b-5f38-4b48-d19a-1d3a580288ca"
      },
      "execution_count": 17,
      "outputs": [
        {
          "output_type": "stream",
          "name": "stdout",
          "text": [
            "C for value closest to average accuracy: 1.0\n"
          ]
        }
      ]
    },
    {
      "cell_type": "code",
      "source": [
        "# Split\n",
        "X_train_last, X_test_last, Y_train_last, Y_test_last = train_test_split(X, Y, test_size = 0.10) # 10 times cs so test_size is 10% of data set \n",
        "\n",
        "# Standarization\n",
        "sc = StandardScaler()\n",
        "sc.fit(X_train_last)\n",
        "X_train_last = sc.transform(X_train_last)\n",
        "X_test_last = sc.transform(X_test_last)\n",
        "X_train_last = pd.DataFrame(X_train_last)\n",
        "X_test_last = pd.DataFrame(X_test_last)\n",
        "\n",
        "# ModelC[i]\n",
        "svclassifier = SVC(kernel = 'rbf', C = avg_acc_C, gamma = 0.05)\n",
        "            \n",
        "svclassifier.fit(X_train_last, Y_train_last)\n",
        "y_pred_last = svclassifier.predict(X_test_last)\n",
        "            \n",
        "# Accuracy - how many values from y_pred are equal to Y_test\n",
        "Accuracy_CV_last = sum(y_pred_last == Y_test_last)/len(Y_test_last)\n",
        "print(\"Accuracy:\", Accuracy_CV_last)"
      ],
      "metadata": {
        "execution": {
          "iopub.status.busy": "2022-05-31T16:32:44.897836Z",
          "iopub.execute_input": "2022-05-31T16:32:44.898495Z",
          "iopub.status.idle": "2022-05-31T16:32:44.950931Z",
          "shell.execute_reply.started": "2022-05-31T16:32:44.898450Z",
          "shell.execute_reply": "2022-05-31T16:32:44.949803Z"
        },
        "trusted": true,
        "colab": {
          "base_uri": "https://localhost:8080/"
        },
        "id": "e2UuHyPpwVAZ",
        "outputId": "511182c5-38bb-4a90-f9fe-c67a3448b991"
      },
      "execution_count": 18,
      "outputs": [
        {
          "output_type": "stream",
          "name": "stdout",
          "text": [
            "Accuracy: 0.8666666666666667\n"
          ]
        }
      ]
    },
    {
      "cell_type": "code",
      "source": [
        "print(classification_report(Y_test_last, y_pred_last, target_names=['Besni', 'Kecimen']))"
      ],
      "metadata": {
        "execution": {
          "iopub.status.busy": "2022-05-31T16:32:56.881724Z",
          "iopub.execute_input": "2022-05-31T16:32:56.882041Z",
          "iopub.status.idle": "2022-05-31T16:32:56.895221Z",
          "shell.execute_reply.started": "2022-05-31T16:32:56.882000Z",
          "shell.execute_reply": "2022-05-31T16:32:56.894256Z"
        },
        "trusted": true,
        "colab": {
          "base_uri": "https://localhost:8080/"
        },
        "id": "iCtn0VjbwVAZ",
        "outputId": "43f82a7c-ddd6-4a86-d8fb-38254a018cf5"
      },
      "execution_count": 20,
      "outputs": [
        {
          "output_type": "stream",
          "name": "stdout",
          "text": [
            "              precision    recall  f1-score   support\n",
            "\n",
            "       Besni       0.89      0.89      0.89        55\n",
            "     Kecimen       0.83      0.83      0.83        35\n",
            "\n",
            "    accuracy                           0.87        90\n",
            "   macro avg       0.86      0.86      0.86        90\n",
            "weighted avg       0.87      0.87      0.87        90\n",
            "\n"
          ]
        }
      ]
    },
    {
      "cell_type": "markdown",
      "source": [
        "# **Accuracy looks okay - 92%**"
      ],
      "metadata": {
        "id": "SwwkTBH5wVAZ"
      }
    }
  ]
}